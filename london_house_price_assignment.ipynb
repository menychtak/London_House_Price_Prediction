{
  "cells": [
    {
      "cell_type": "markdown",
      "id": "5ede0cae",
      "metadata": {
        "id": "5ede0cae"
      },
      "source": [
        "\n",
        "# London House Price Prediction – Automatic Best Model Selection\n",
        "\n",
        "This notebook implements an end‑to‑end pipeline for the **London House Price Prediction – Advanced Techniques** competition. It cleans the data, engineers features, trains multiple models (CatBoost, LightGBM, Random Forest), compares their performance via time‑aware cross‑validation, selects the model with the best RMSE, retrains it on the full training data and creates the final submission.  It also provides feature importance plots for each model and identifies the top 20 important features.\n"
      ]
    },
    {
      "cell_type": "markdown",
      "id": "8b7f803d",
      "metadata": {
        "id": "8b7f803d"
      },
      "source": [
        "## 1. Setup and Data Loading\n",
        "\n",
        "Install the necessary libraries (if not already installed) and load the training and test data.  Place `train.csv` and `test.csv` from the competition in the working directory."
      ]
    },
    {
      "cell_type": "code",
      "source": [
        "! pip install catboost"
      ],
      "metadata": {
        "colab": {
          "base_uri": "https://localhost:8080/"
        },
        "id": "TqlUZQvwpUWb",
        "outputId": "8aba67fb-5933-47c3-bfb9-94affddc4554"
      },
      "id": "TqlUZQvwpUWb",
      "execution_count": 8,
      "outputs": [
        {
          "output_type": "stream",
          "name": "stdout",
          "text": [
            "Requirement already satisfied: catboost in /usr/local/lib/python3.12/dist-packages (1.2.8)\n",
            "Requirement already satisfied: graphviz in /usr/local/lib/python3.12/dist-packages (from catboost) (0.21)\n",
            "Requirement already satisfied: matplotlib in /usr/local/lib/python3.12/dist-packages (from catboost) (3.10.0)\n",
            "Requirement already satisfied: numpy<3.0,>=1.16.0 in /usr/local/lib/python3.12/dist-packages (from catboost) (2.0.2)\n",
            "Requirement already satisfied: pandas>=0.24 in /usr/local/lib/python3.12/dist-packages (from catboost) (2.2.2)\n",
            "Requirement already satisfied: scipy in /usr/local/lib/python3.12/dist-packages (from catboost) (1.16.1)\n",
            "Requirement already satisfied: plotly in /usr/local/lib/python3.12/dist-packages (from catboost) (5.24.1)\n",
            "Requirement already satisfied: six in /usr/local/lib/python3.12/dist-packages (from catboost) (1.17.0)\n",
            "Requirement already satisfied: python-dateutil>=2.8.2 in /usr/local/lib/python3.12/dist-packages (from pandas>=0.24->catboost) (2.9.0.post0)\n",
            "Requirement already satisfied: pytz>=2020.1 in /usr/local/lib/python3.12/dist-packages (from pandas>=0.24->catboost) (2025.2)\n",
            "Requirement already satisfied: tzdata>=2022.7 in /usr/local/lib/python3.12/dist-packages (from pandas>=0.24->catboost) (2025.2)\n",
            "Requirement already satisfied: contourpy>=1.0.1 in /usr/local/lib/python3.12/dist-packages (from matplotlib->catboost) (1.3.3)\n",
            "Requirement already satisfied: cycler>=0.10 in /usr/local/lib/python3.12/dist-packages (from matplotlib->catboost) (0.12.1)\n",
            "Requirement already satisfied: fonttools>=4.22.0 in /usr/local/lib/python3.12/dist-packages (from matplotlib->catboost) (4.59.2)\n",
            "Requirement already satisfied: kiwisolver>=1.3.1 in /usr/local/lib/python3.12/dist-packages (from matplotlib->catboost) (1.4.9)\n",
            "Requirement already satisfied: packaging>=20.0 in /usr/local/lib/python3.12/dist-packages (from matplotlib->catboost) (25.0)\n",
            "Requirement already satisfied: pillow>=8 in /usr/local/lib/python3.12/dist-packages (from matplotlib->catboost) (11.3.0)\n",
            "Requirement already satisfied: pyparsing>=2.3.1 in /usr/local/lib/python3.12/dist-packages (from matplotlib->catboost) (3.2.3)\n",
            "Requirement already satisfied: tenacity>=6.2.0 in /usr/local/lib/python3.12/dist-packages (from plotly->catboost) (8.5.0)\n"
          ]
        }
      ]
    },
    {
      "cell_type": "code",
      "execution_count": 9,
      "id": "a28fe629",
      "metadata": {
        "colab": {
          "base_uri": "https://localhost:8080/"
        },
        "id": "a28fe629",
        "outputId": "a5e77a5c-1650-4987-c695-06a38fb21064"
      },
      "outputs": [
        {
          "output_type": "stream",
          "name": "stdout",
          "text": [
            "Train shape: (266325, 17)\n",
            "Test shape: (16547, 16)\n"
          ]
        }
      ],
      "source": [
        "\n",
        "import numpy as np\n",
        "import pandas as pd\n",
        "from sklearn.model_selection import GroupKFold\n",
        "from sklearn.metrics import mean_squared_error\n",
        "from sklearn.cluster import KMeans\n",
        "\n",
        "# Supervised models\n",
        "import catboost\n",
        "from lightgbm import LGBMRegressor\n",
        "from sklearn.ensemble import RandomForestRegressor\n",
        "\n",
        "import matplotlib.pyplot as plt\n",
        "import seaborn as sns\n",
        "\n",
        "# Load data\n",
        "train_df = pd.read_csv('train.csv')\n",
        "test_df = pd.read_csv('test.csv')\n",
        "print(f'Train shape: {train_df.shape}')\n",
        "print(f'Test shape: {test_df.shape}')\n"
      ]
    },
    {
      "cell_type": "markdown",
      "id": "b35538e4",
      "metadata": {
        "id": "b35538e4"
      },
      "source": [
        "\n",
        "## 2. Remove Exact Duplicates\n",
        "\n",
        "Remove any duplicate rows from the training data to prevent bias.\n"
      ]
    },
    {
      "cell_type": "code",
      "execution_count": 10,
      "id": "838b24f7",
      "metadata": {
        "colab": {
          "base_uri": "https://localhost:8080/"
        },
        "id": "838b24f7",
        "outputId": "b78d95e0-dde0-48e1-ff6e-ec3cd9a93181"
      },
      "outputs": [
        {
          "output_type": "stream",
          "name": "stdout",
          "text": [
            "Duplicate rows removed: 0\n"
          ]
        }
      ],
      "source": [
        "\n",
        "before = train_df.shape[0]\n",
        "train_df = train_df.drop_duplicates()\n",
        "after = train_df.shape[0]\n",
        "print(f'Duplicate rows removed: {before - after}')\n"
      ]
    },
    {
      "cell_type": "markdown",
      "id": "f2a03663",
      "metadata": {
        "id": "f2a03663"
      },
      "source": [
        "\n",
        "## 3. Compute Year Index and Deflate Prices\n",
        "\n",
        "Housing prices have trended upwards over time.  To stabilise the target, we compute a year‑specific median price index (smoothed with a rolling median) and divide the price by this index.  We then take the log of the deflated price.\n"
      ]
    },
    {
      "cell_type": "code",
      "execution_count": 11,
      "id": "5af4efb2",
      "metadata": {
        "colab": {
          "base_uri": "https://localhost:8080/"
        },
        "id": "5af4efb2",
        "outputId": "15a0b0d3-c1ca-46b8-bb79-44d939fd5706"
      },
      "outputs": [
        {
          "output_type": "stream",
          "name": "stderr",
          "text": [
            "/tmp/ipython-input-2151147418.py:9: FutureWarning: A value is trying to be set on a copy of a DataFrame or Series through chained assignment using an inplace method.\n",
            "The behavior will change in pandas 3.0. This inplace method will never work because the intermediate object on which we are setting values always behaves as a copy.\n",
            "\n",
            "For example, when doing 'df[col].method(value, inplace=True)', try using 'df.method({col: value}, inplace=True)' or df[col] = df[col].method(value) instead, to perform the operation inplace on the original object.\n",
            "\n",
            "\n",
            "  df['year_idx'].fillna(year_index.median(), inplace=True)\n",
            "/tmp/ipython-input-2151147418.py:9: FutureWarning: A value is trying to be set on a copy of a DataFrame or Series through chained assignment using an inplace method.\n",
            "The behavior will change in pandas 3.0. This inplace method will never work because the intermediate object on which we are setting values always behaves as a copy.\n",
            "\n",
            "For example, when doing 'df[col].method(value, inplace=True)', try using 'df.method({col: value}, inplace=True)' or df[col] = df[col].method(value) instead, to perform the operation inplace on the original object.\n",
            "\n",
            "\n",
            "  df['year_idx'].fillna(year_index.median(), inplace=True)\n"
          ]
        }
      ],
      "source": [
        "\n",
        "# Compute rolling median price index by sale_year\n",
        "year_median = train_df.groupby('sale_year')['price'].median()\n",
        "year_index = year_median.rolling(window=2, min_periods=1).median()\n",
        "year_index.name = 'year_idx'\n",
        "\n",
        "# Attach to train and test\n",
        "def attach_year_index(df):\n",
        "    df = df.merge(year_index, left_on='sale_year', right_index=True, how='left')\n",
        "    df['year_idx'].fillna(year_index.median(), inplace=True)\n",
        "    return df\n",
        "\n",
        "train_df = attach_year_index(train_df)\n",
        "test_df = attach_year_index(test_df)\n",
        "\n",
        "# Deflate and take log\n",
        "train_df['price_deflated'] = train_df['price'] / train_df['year_idx']\n",
        "train_df['log_price_defl'] = np.log1p(train_df['price_deflated'])\n"
      ]
    },
    {
      "cell_type": "markdown",
      "id": "ff74108d",
      "metadata": {
        "id": "ff74108d"
      },
      "source": [
        "\n",
        "## 4. Handle Missing Values and Create Area Bins\n",
        "\n",
        "Impute missing numeric values (bathrooms, bedrooms, livingRooms, floorAreaSqM) by median within groups defined by `propertyType` and a quantile bin of floor area.  Add binary missing indicators.  Impute categorical missing values with `'Unknown'`.\n"
      ]
    },
    {
      "cell_type": "code",
      "execution_count": 12,
      "id": "864d9140",
      "metadata": {
        "colab": {
          "base_uri": "https://localhost:8080/"
        },
        "id": "864d9140",
        "outputId": "68e54cd7-40bd-4c94-cfa9-150f1a51bfcf"
      },
      "outputs": [
        {
          "output_type": "stream",
          "name": "stderr",
          "text": [
            "/tmp/ipython-input-1440320791.py:10: FutureWarning: The default of observed=False is deprecated and will be changed to True in a future version of pandas. Pass observed=False to retain current behavior or observed=True to adopt the future default and silence this warning.\n",
            "  group_medians = train_df.groupby(group_cols)[col].median().rename('median')\n",
            "/tmp/ipython-input-1440320791.py:10: FutureWarning: The default of observed=False is deprecated and will be changed to True in a future version of pandas. Pass observed=False to retain current behavior or observed=True to adopt the future default and silence this warning.\n",
            "  group_medians = train_df.groupby(group_cols)[col].median().rename('median')\n",
            "/tmp/ipython-input-1440320791.py:10: FutureWarning: The default of observed=False is deprecated and will be changed to True in a future version of pandas. Pass observed=False to retain current behavior or observed=True to adopt the future default and silence this warning.\n",
            "  group_medians = train_df.groupby(group_cols)[col].median().rename('median')\n",
            "/tmp/ipython-input-1440320791.py:10: FutureWarning: The default of observed=False is deprecated and will be changed to True in a future version of pandas. Pass observed=False to retain current behavior or observed=True to adopt the future default and silence this warning.\n",
            "  group_medians = train_df.groupby(group_cols)[col].median().rename('median')\n"
          ]
        }
      ],
      "source": [
        "\n",
        "# Create floor area quantile bins\n",
        "area_quantiles = train_df['floorAreaSqM'].quantile([i/10 for i in range(1, 10)]).values\n",
        "bins = [-np.inf] + area_quantiles.tolist() + [np.inf]\n",
        "labels = [f'bin_{i}' for i in range(10)]\n",
        "train_df['area_bin'] = pd.cut(train_df['floorAreaSqM'], bins=bins, labels=labels)\n",
        "test_df['area_bin']  = pd.cut(test_df['floorAreaSqM'],  bins=bins, labels=labels)\n",
        "\n",
        "# Impute numeric columns by group median\n",
        "def impute_by_group(train_df, test_df, col, group_cols):\n",
        "    group_medians = train_df.groupby(group_cols)[col].median().rename('median')\n",
        "    global_median = train_df[col].median()\n",
        "    def fill(df):\n",
        "        return df[group_cols].join(group_medians, on=group_cols)['median'].fillna(global_median)\n",
        "    # Train\n",
        "    mask = train_df[col].isna()\n",
        "    train_df.loc[mask, col] = fill(train_df.loc[mask])\n",
        "    # Test\n",
        "    mask_test = test_df[col].isna()\n",
        "    test_df.loc[mask_test, col] = fill(test_df.loc[mask_test])\n",
        "    return train_df, test_df\n",
        "\n",
        "num_cols = ['bathrooms','bedrooms','livingRooms','floorAreaSqM']\n",
        "for c in num_cols:\n",
        "    # Add missing indicator\n",
        "    train_df[f'{c}_missing'] = train_df[c].isna().astype(int)\n",
        "    test_df[f'{c}_missing']  = test_df[c].isna().astype(int)\n",
        "    train_df, test_df = impute_by_group(train_df, test_df, c, ['propertyType','area_bin'])\n",
        "\n",
        "# Fill missing categorical values with 'Unknown'\n",
        "for col in ['tenure','currentEnergyRating']:\n",
        "    train_df[col] = train_df[col].fillna('Unknown')\n",
        "    test_df[col]  = test_df[col].fillna('Unknown')\n"
      ]
    },
    {
      "cell_type": "markdown",
      "id": "eb5d4901",
      "metadata": {
        "id": "eb5d4901"
      },
      "source": [
        "\n",
        "## 5. Geographic Feature Engineering\n",
        "\n",
        "Use latitude and longitude to create distance to a central point (Trafalgar Square), coarse grid tiles (`tile_id`) for target encoding, and clusters of location via k‑means.  If latitude or longitude is missing, fill with the median values from the training set.\n"
      ]
    },
    {
      "cell_type": "code",
      "execution_count": 13,
      "id": "3915cd54",
      "metadata": {
        "colab": {
          "base_uri": "https://localhost:8080/"
        },
        "id": "3915cd54",
        "outputId": "ca6996c9-6da2-4b58-8fa0-f4e0fd3b7905"
      },
      "outputs": [
        {
          "output_type": "stream",
          "name": "stderr",
          "text": [
            "/tmp/ipython-input-3149444002.py:37: FutureWarning: A value is trying to be set on a copy of a DataFrame or Series through chained assignment using an inplace method.\n",
            "The behavior will change in pandas 3.0. This inplace method will never work because the intermediate object on which we are setting values always behaves as a copy.\n",
            "\n",
            "For example, when doing 'df[col].method(value, inplace=True)', try using 'df.method({col: value}, inplace=True)' or df[col] = df[col].method(value) instead, to perform the operation inplace on the original object.\n",
            "\n",
            "\n",
            "  train_df['tile_price_oof'].fillna(global_price_med, inplace=True)\n"
          ]
        }
      ],
      "source": [
        "# Fill missing lat/lon with medians\n",
        "lat_med = train_df['latitude'].median()\n",
        "lon_med = train_df['longitude'].median()\n",
        "train_df['latitude_filled'] = train_df['latitude'].fillna(lat_med)\n",
        "train_df['longitude_filled'] = train_df['longitude'].fillna(lon_med)\n",
        "test_df['latitude_filled']  = test_df['latitude'].fillna(lat_med)\n",
        "test_df['longitude_filled']  = test_df['longitude'].fillna(lon_med)\n",
        "\n",
        "# Distance to Trafalgar Square\n",
        "def haversine_distance(lat1, lon1, lat2=51.508, lon2=-0.128):\n",
        "    R = 6371.0\n",
        "    lat1, lon1, lat2, lon2 = np.radians(lat1), np.radians(lon1), np.radians(lat2), np.radians(lon2)\n",
        "    dlat = lat2 - lat1\n",
        "    dlon = lon2 - lon1\n",
        "    a = np.sin(dlat/2)**2 + np.cos(lat1)*np.cos(lat2)*np.sin(dlon/2)**2\n",
        "    c = 2 * np.arcsin(np.sqrt(a))\n",
        "    return R * c\n",
        "\n",
        "train_df['dist_cbd_km'] = haversine_distance(train_df['latitude_filled'], train_df['longitude_filled'])\n",
        "test_df['dist_cbd_km']  = haversine_distance(test_df['latitude_filled'],  test_df['longitude_filled'])\n",
        "\n",
        "# Grid tile id\n",
        "train_df['tile_id'] = (np.floor(train_df['latitude_filled']/0.01).astype(int).astype(str) + '_' + np.floor(train_df['longitude_filled']/0.01).astype(int).astype(str))\n",
        "test_df['tile_id']  = (np.floor(test_df['latitude_filled']/0.01).astype(int).astype(str) + '_' + np.floor(test_df['longitude_filled']/0.01).astype(int).astype(str))\n",
        "\n",
        "# Out-of-fold tile median price encoding\n",
        "train_df['tile_price_oof'] = np.nan\n",
        "kf = GroupKFold(n_splits=5)\n",
        "for tr_idx, val_idx in kf.split(train_df, groups=train_df['sale_year']):\n",
        "    tr_subset = train_df.iloc[tr_idx]\n",
        "    val_subset = train_df.iloc[val_idx]\n",
        "    tile_med = tr_subset.groupby('tile_id')['price'].median()\n",
        "    train_df.loc[train_df.index[val_idx], 'tile_price_oof'] = val_subset['tile_id'].map(tile_med)\n",
        "\n",
        "# Fill NaNs with global median price\n",
        "global_price_med = train_df['price'].median()\n",
        "train_df['tile_price_oof'].fillna(global_price_med, inplace=True)\n",
        "\n",
        "# Map tile median price to test set\n",
        "full_tile_med = train_df.groupby('tile_id')['price'].median()\n",
        "test_df['tile_price'] = test_df['tile_id'].map(full_tile_med).fillna(global_price_med)\n",
        "\n",
        "# K-means clustering on lat/lon\n",
        "coords_train = train_df[['latitude_filled','longitude_filled']].values\n",
        "coords_test  = test_df[['latitude_filled','longitude_filled']].values\n",
        "kmeans = KMeans(n_clusters=40, random_state=42)\n",
        "train_df['geo_cluster'] = kmeans.fit_predict(coords_train)\n",
        "test_df['geo_cluster']  = kmeans.predict(coords_test)\n"
      ]
    },
    {
      "cell_type": "markdown",
      "id": "f56e491b",
      "metadata": {
        "id": "f56e491b"
      },
      "source": [
        "\n",
        "## 6. Temporal Features\n",
        "\n",
        "Encode the sale month cyclically using sine and cosine, and ensure `sale_year` is numeric.\n"
      ]
    },
    {
      "cell_type": "code",
      "execution_count": 14,
      "id": "34d17374",
      "metadata": {
        "id": "34d17374"
      },
      "outputs": [],
      "source": [
        "\n",
        "# Ensure sale_year is integer\n",
        "train_df['sale_year'] = train_df['sale_year'].astype(int)\n",
        "test_df['sale_year']  = test_df['sale_year'].astype(int)\n",
        "\n",
        "# Cyclical encoding of month\n",
        "def add_cyclic_month(df):\n",
        "    df['month_sin'] = np.sin(2 * np.pi * df['sale_month'] / 12)\n",
        "    df['month_cos'] = np.cos(2 * np.pi * df['sale_month'] / 12)\n",
        "    return df\n",
        "\n",
        "train_df = add_cyclic_month(train_df)\n",
        "test_df  = add_cyclic_month(test_df)\n"
      ]
    },
    {
      "cell_type": "markdown",
      "id": "b08eea23",
      "metadata": {
        "id": "b08eea23"
      },
      "source": [
        "\n",
        "## 7. Prepare Feature Matrix and Target\n",
        "\n",
        "Define the target `log_price_defl` and drop intermediate variables.  Keep `area_bin` as a categorical feature so it can be used as an input feature rather than just an imputation helper. Identify categorical features and prepare both raw and encoded versions of the feature matrix for different models."
      ]
    },
    {
      "cell_type": "code",
      "execution_count": 15,
      "id": "de3c82b2",
      "metadata": {
        "colab": {
          "base_uri": "https://localhost:8080/"
        },
        "id": "de3c82b2",
        "outputId": "1fbcf364-f0e1-4d59-a23f-2defd2bcbaf4"
      },
      "outputs": [
        {
          "output_type": "stream",
          "name": "stdout",
          "text": [
            "Total features: 29\n",
            "Categorical features: 9\n"
          ]
        }
      ],
      "source": [
        "\n",
        "# Target (log-deflated price)\n",
        "y = train_df['log_price_defl']\n",
        "\n",
        "# Drop columns that should not be used as features\n",
        "# Note: we retain 'area_bin' as a feature\n",
        "cols_to_drop = ['price','price_deflated','log_price_defl','year_idx','price_deflated']\n",
        "X = train_df.drop(columns=cols_to_drop, errors='ignore')\n",
        "X_test_final = test_df.drop(columns=['year_idx'], errors='ignore')\n",
        "\n",
        "# Identify categorical and numeric columns\n",
        "numeric_cols = X.select_dtypes(include=[np.number]).columns.tolist()\n",
        "cat_cols = [c for c in X.columns if c not in numeric_cols]\n",
        "\n",
        "# Fill categorical missing values with 'Unknown', convert to string and then category for CatBoost\n",
        "def prep_cat_for_catboost(df):\n",
        "    df = df.copy()\n",
        "    for col in cat_cols:\n",
        "        df[col] = df[col].astype(str).fillna('Unknown')\n",
        "        df[col] = df[col].astype('category')\n",
        "    return df\n",
        "\n",
        "X_cat = prep_cat_for_catboost(X)\n",
        "X_test_cat = prep_cat_for_catboost(X_test_final)\n",
        "\n",
        "# Prepare encoded version for non-catboost models: encode categories to integers\n",
        "X_enc = X.copy()\n",
        "X_test_enc = X_test_final.copy()\n",
        "for col in cat_cols:\n",
        "    all_cats = sorted(set(X_enc[col].astype(str)) | set(X_test_enc[col].astype(str)))\n",
        "    X_enc[col] = pd.Categorical(X_enc[col], categories=all_cats).codes\n",
        "    X_test_enc[col] = pd.Categorical(X_test_enc[col], categories=all_cats).codes\n",
        "\n",
        "print(f'Total features: {X.shape[1]}')\n",
        "print(f'Categorical features: {len(cat_cols)}')\n"
      ]
    },
    {
      "cell_type": "markdown",
      "id": "aba6a800",
      "metadata": {
        "id": "aba6a800"
      },
      "source": [
        "\n",
        "## 8. Model Evaluation via Time‑Aware Cross‑Validation\n",
        "\n",
        "Perform GroupKFold cross-validation for three models: **CatBoost**, **LightGBM**, and **RandomForest**.  Scores are reported in log‑deflated price space (so lower is better).  At the end, the best model will be selected for final training and prediction.\n"
      ]
    },
    {
      "cell_type": "code",
      "execution_count": 16,
      "id": "c8445528",
      "metadata": {
        "colab": {
          "base_uri": "https://localhost:8080/"
        },
        "id": "c8445528",
        "outputId": "9d921c72-ef48-4887-be53-52b27fca80f5"
      },
      "outputs": [
        {
          "output_type": "stream",
          "name": "stdout",
          "text": [
            "0:\tlearn: 0.4103420\ttest: 0.4052039\tbest: 0.4052039 (0)\ttotal: 66.5ms\tremaining: 2m 12s\n",
            "200:\tlearn: 0.1877604\ttest: 0.1871742\tbest: 0.1871742 (200)\ttotal: 7.13s\tremaining: 1m 3s\n",
            "400:\tlearn: 0.1787566\ttest: 0.1823373\tbest: 0.1823373 (400)\ttotal: 14.1s\tremaining: 56.1s\n",
            "600:\tlearn: 0.1728918\ttest: 0.1799993\tbest: 0.1799993 (600)\ttotal: 20.9s\tremaining: 48.7s\n",
            "800:\tlearn: 0.1684816\ttest: 0.1785721\tbest: 0.1785702 (798)\ttotal: 27.8s\tremaining: 41.6s\n",
            "1000:\tlearn: 0.1645679\ttest: 0.1775152\tbest: 0.1775152 (1000)\ttotal: 34.8s\tremaining: 34.7s\n",
            "1200:\tlearn: 0.1612582\ttest: 0.1768626\tbest: 0.1768626 (1200)\ttotal: 41.7s\tremaining: 27.8s\n",
            "1400:\tlearn: 0.1582579\ttest: 0.1763114\tbest: 0.1763114 (1400)\ttotal: 48.6s\tremaining: 20.8s\n",
            "1600:\tlearn: 0.1554458\ttest: 0.1757490\tbest: 0.1757490 (1600)\ttotal: 55.5s\tremaining: 13.8s\n",
            "1800:\tlearn: 0.1529068\ttest: 0.1752973\tbest: 0.1752971 (1791)\ttotal: 1m 2s\tremaining: 6.9s\n",
            "1999:\tlearn: 0.1505218\ttest: 0.1750774\tbest: 0.1750701 (1993)\ttotal: 1m 9s\tremaining: 0us\n",
            "bestTest = 0.1750701337\n",
            "bestIteration = 1993\n",
            "Shrink model to first 1994 iterations.\n",
            "CatBoost Fold 1 RMSE: 0.17507\n",
            "0:\tlearn: 0.4083091\ttest: 0.4125786\tbest: 0.4125786 (0)\ttotal: 39.4ms\tremaining: 1m 18s\n",
            "200:\tlearn: 0.1868160\ttest: 0.1944413\tbest: 0.1944413 (200)\ttotal: 6.87s\tremaining: 1m 1s\n",
            "400:\tlearn: 0.1779323\ttest: 0.1889496\tbest: 0.1889496 (400)\ttotal: 13.6s\tremaining: 54.4s\n",
            "600:\tlearn: 0.1722431\ttest: 0.1866120\tbest: 0.1866120 (600)\ttotal: 20.5s\tremaining: 47.8s\n",
            "800:\tlearn: 0.1678653\ttest: 0.1850426\tbest: 0.1850426 (800)\ttotal: 27.5s\tremaining: 41.1s\n",
            "1000:\tlearn: 0.1639899\ttest: 0.1839553\tbest: 0.1839549 (999)\ttotal: 34.5s\tremaining: 34.4s\n",
            "1200:\tlearn: 0.1607520\ttest: 0.1831075\tbest: 0.1831075 (1200)\ttotal: 41.6s\tremaining: 27.7s\n",
            "1400:\tlearn: 0.1577933\ttest: 0.1825209\tbest: 0.1825209 (1400)\ttotal: 48.7s\tremaining: 20.8s\n",
            "1600:\tlearn: 0.1551212\ttest: 0.1819960\tbest: 0.1819960 (1600)\ttotal: 55.9s\tremaining: 13.9s\n",
            "1800:\tlearn: 0.1526446\ttest: 0.1815399\tbest: 0.1815399 (1800)\ttotal: 1m 3s\tremaining: 6.96s\n",
            "1999:\tlearn: 0.1504120\ttest: 0.1811569\tbest: 0.1811551 (1997)\ttotal: 1m 10s\tremaining: 0us\n",
            "bestTest = 0.181155145\n",
            "bestIteration = 1997\n",
            "Shrink model to first 1998 iterations.\n",
            "CatBoost Fold 2 RMSE: 0.18116\n",
            "0:\tlearn: 0.4100588\ttest: 0.4058659\tbest: 0.4058659 (0)\ttotal: 37.5ms\tremaining: 1m 14s\n",
            "200:\tlearn: 0.1871612\ttest: 0.1910442\tbest: 0.1910442 (200)\ttotal: 6.96s\tremaining: 1m 2s\n",
            "400:\tlearn: 0.1778845\ttest: 0.1858087\tbest: 0.1858074 (399)\ttotal: 13.8s\tremaining: 55.2s\n",
            "600:\tlearn: 0.1721530\ttest: 0.1834196\tbest: 0.1834196 (600)\ttotal: 20.8s\tremaining: 48.4s\n",
            "800:\tlearn: 0.1678146\ttest: 0.1819691\tbest: 0.1819691 (800)\ttotal: 28s\tremaining: 41.9s\n",
            "1000:\tlearn: 0.1640039\ttest: 0.1808480\tbest: 0.1808480 (1000)\ttotal: 35s\tremaining: 35s\n",
            "1200:\tlearn: 0.1606709\ttest: 0.1798112\tbest: 0.1798106 (1198)\ttotal: 42s\tremaining: 28s\n",
            "1400:\tlearn: 0.1576846\ttest: 0.1790084\tbest: 0.1790084 (1400)\ttotal: 49.1s\tremaining: 21s\n",
            "1600:\tlearn: 0.1550984\ttest: 0.1784089\tbest: 0.1784089 (1600)\ttotal: 56.1s\tremaining: 14s\n",
            "1800:\tlearn: 0.1525206\ttest: 0.1778779\tbest: 0.1778734 (1793)\ttotal: 1m 3s\tremaining: 6.99s\n",
            "1999:\tlearn: 0.1500770\ttest: 0.1774234\tbest: 0.1774234 (1999)\ttotal: 1m 10s\tremaining: 0us\n",
            "bestTest = 0.177423376\n",
            "bestIteration = 1999\n",
            "CatBoost Fold 3 RMSE: 0.17742\n",
            "0:\tlearn: 0.4070881\ttest: 0.4173027\tbest: 0.4173027 (0)\ttotal: 35.3ms\tremaining: 1m 10s\n",
            "200:\tlearn: 0.1871087\ttest: 0.1925338\tbest: 0.1925338 (200)\ttotal: 6.97s\tremaining: 1m 2s\n",
            "400:\tlearn: 0.1780812\ttest: 0.1874484\tbest: 0.1874484 (400)\ttotal: 13.9s\tremaining: 55.4s\n",
            "600:\tlearn: 0.1726999\ttest: 0.1850274\tbest: 0.1850274 (600)\ttotal: 20.9s\tremaining: 48.6s\n",
            "800:\tlearn: 0.1684588\ttest: 0.1833334\tbest: 0.1833334 (800)\ttotal: 27.9s\tremaining: 41.8s\n",
            "1000:\tlearn: 0.1647873\ttest: 0.1822949\tbest: 0.1822940 (999)\ttotal: 35.1s\tremaining: 35s\n",
            "1200:\tlearn: 0.1614943\ttest: 0.1811348\tbest: 0.1811348 (1200)\ttotal: 42.2s\tremaining: 28.1s\n",
            "1400:\tlearn: 0.1585900\ttest: 0.1802500\tbest: 0.1802489 (1399)\ttotal: 49.3s\tremaining: 21.1s\n",
            "1600:\tlearn: 0.1558128\ttest: 0.1796634\tbest: 0.1796634 (1600)\ttotal: 56.5s\tremaining: 14.1s\n",
            "1800:\tlearn: 0.1533565\ttest: 0.1791950\tbest: 0.1791950 (1800)\ttotal: 1m 3s\tremaining: 7.05s\n",
            "1999:\tlearn: 0.1510283\ttest: 0.1787879\tbest: 0.1787879 (1999)\ttotal: 1m 11s\tremaining: 0us\n",
            "bestTest = 0.1787878592\n",
            "bestIteration = 1999\n",
            "CatBoost Fold 4 RMSE: 0.17879\n",
            "0:\tlearn: 0.4102417\ttest: 0.4048343\tbest: 0.4048343 (0)\ttotal: 35ms\tremaining: 1m 10s\n",
            "200:\tlearn: 0.1873199\ttest: 0.1927317\tbest: 0.1927317 (200)\ttotal: 6.99s\tremaining: 1m 2s\n",
            "400:\tlearn: 0.1783653\ttest: 0.1875951\tbest: 0.1875925 (399)\ttotal: 13.9s\tremaining: 55.3s\n",
            "600:\tlearn: 0.1727350\ttest: 0.1852227\tbest: 0.1852227 (600)\ttotal: 20.9s\tremaining: 48.7s\n",
            "800:\tlearn: 0.1681480\ttest: 0.1835532\tbest: 0.1835532 (800)\ttotal: 28s\tremaining: 41.9s\n",
            "1000:\tlearn: 0.1644358\ttest: 0.1823606\tbest: 0.1823606 (1000)\ttotal: 35.1s\tremaining: 35.1s\n",
            "1200:\tlearn: 0.1610604\ttest: 0.1813696\tbest: 0.1813696 (1200)\ttotal: 42.1s\tremaining: 28s\n",
            "1400:\tlearn: 0.1580305\ttest: 0.1806822\tbest: 0.1806720 (1391)\ttotal: 49.3s\tremaining: 21.1s\n",
            "1600:\tlearn: 0.1554212\ttest: 0.1801661\tbest: 0.1801661 (1600)\ttotal: 56.4s\tremaining: 14.1s\n",
            "1800:\tlearn: 0.1529775\ttest: 0.1796572\tbest: 0.1796572 (1800)\ttotal: 1m 3s\tremaining: 7.03s\n",
            "1999:\tlearn: 0.1507115\ttest: 0.1790743\tbest: 0.1790743 (1999)\ttotal: 1m 10s\tremaining: 0us\n",
            "bestTest = 0.1790742909\n",
            "bestIteration = 1999\n",
            "CatBoost Fold 5 RMSE: 0.17907\n",
            "CatBoost CV RMSE: 0.17830 ± 0.00201\n"
          ]
        }
      ],
      "source": [
        "\n",
        "cv = GroupKFold(n_splits=5)\n",
        "\n",
        "# CatBoost\n",
        "cat_model_cv = catboost.CatBoostRegressor(\n",
        "    iterations=2000,\n",
        "    learning_rate=0.05,\n",
        "    depth=8,\n",
        "    loss_function='RMSE',\n",
        "    eval_metric='RMSE',\n",
        "    random_state=42,\n",
        "    verbose=False,\n",
        "    task_type='GPU',        # <- Enables GPU\n",
        "    devices='0',            # <- using Colab GPU\n",
        ")\n",
        "cat_scores = []\n",
        "\n",
        "for fold, (tr_idx, val_idx) in enumerate(cv.split(X_cat, y, groups=X_cat['sale_year'])):\n",
        "    X_tr, X_val = X_cat.iloc[tr_idx], X_cat.iloc[val_idx]\n",
        "    y_tr, y_val = y.iloc[tr_idx], y.iloc[val_idx]\n",
        "    cat_model_cv.fit(\n",
        "        X_tr,\n",
        "        y_tr,\n",
        "        cat_features=[X_cat.columns.get_loc(c) for c in cat_cols],\n",
        "        eval_set=(X_val, y_val),\n",
        "        verbose=200,\n",
        "        early_stopping_rounds=200\n",
        "    )\n",
        "    pred = cat_model_cv.predict(X_val)\n",
        "    rmse = np.sqrt(mean_squared_error(y_val, pred))\n",
        "    cat_scores.append(rmse)\n",
        "    print(f'CatBoost Fold {fold+1} RMSE: {rmse:.5f}')\n",
        "\n",
        "print(f\"CatBoost CV RMSE: {np.mean(cat_scores):.5f} ± {np.std(cat_scores):.5f}\")\n"
      ]
    },
    {
      "cell_type": "code",
      "source": [
        "# LightGBM\n",
        "lgb_model_cv = LGBMRegressor(\n",
        "    n_estimators=2000,\n",
        "    learning_rate=0.05,\n",
        "    max_depth=-1,\n",
        "    random_state=42,\n",
        "    subsample=0.8,\n",
        "    colsample_bytree=0.8\n",
        ")\n",
        "lgb_scores = []\n",
        "\n",
        "for fold, (tr_idx, val_idx) in enumerate(cv.split(X_enc, y, groups=X_cat['sale_year'])):\n",
        "    X_tr, X_val = X_enc.iloc[tr_idx], X_enc.iloc[val_idx]\n",
        "    y_tr, y_val = y.iloc[tr_idx], y.iloc[val_idx]\n",
        "    lgb_model_cv.fit(\n",
        "        X_tr,\n",
        "        y_tr,\n",
        "        categorical_feature=[X_enc.columns.get_loc(c) for c in cat_cols],\n",
        "        eval_set=[(X_val, y_val)],\n",
        "        callbacks=[] # Replaced verbose=False with callbacks=[]\n",
        "    )\n",
        "    pred = lgb_model_cv.predict(X_val)\n",
        "    rmse = np.sqrt(mean_squared_error(y_val, pred))\n",
        "    lgb_scores.append(rmse)\n",
        "    print(f'LightGBM Fold {fold+1} RMSE: {rmse:.5f}')\n",
        "\n",
        "print(f\"LightGBM CV RMSE: {np.mean(lgb_scores):.5f} ± {np.std(lgb_scores):.5f}\")"
      ],
      "metadata": {
        "colab": {
          "base_uri": "https://localhost:8080/"
        },
        "id": "K7WWQ-veqWwl",
        "outputId": "c374da80-2851-4346-b65f-806f27275389"
      },
      "id": "K7WWQ-veqWwl",
      "execution_count": 17,
      "outputs": [
        {
          "output_type": "stream",
          "name": "stdout",
          "text": [
            "[LightGBM] [Warning] Categorical features with more bins than the configured maximum bin number found.\n",
            "[LightGBM] [Warning] For categorical features, max_bin and max_bin_by_feature may be ignored with a large number of categories.\n",
            "[LightGBM] [Info] Auto-choosing col-wise multi-threading, the overhead of testing was 0.037653 seconds.\n",
            "You can set `force_col_wise=true` to remove the overhead.\n",
            "[LightGBM] [Info] Total Bins 53474\n",
            "[LightGBM] [Info] Number of data points in the train set: 212792, number of used features: 28\n",
            "[LightGBM] [Info] Start training from score 0.817357\n",
            "LightGBM Fold 1 RMSE: 0.17761\n",
            "[LightGBM] [Warning] Categorical features with more bins than the configured maximum bin number found.\n",
            "[LightGBM] [Warning] For categorical features, max_bin and max_bin_by_feature may be ignored with a large number of categories.\n",
            "[LightGBM] [Info] Auto-choosing col-wise multi-threading, the overhead of testing was 0.034206 seconds.\n",
            "You can set `force_col_wise=true` to remove the overhead.\n",
            "[LightGBM] [Info] Total Bins 53471\n",
            "[LightGBM] [Info] Number of data points in the train set: 212887, number of used features: 28\n",
            "[LightGBM] [Info] Start training from score 0.814768\n",
            "LightGBM Fold 2 RMSE: 0.18162\n",
            "[LightGBM] [Warning] Categorical features with more bins than the configured maximum bin number found.\n",
            "[LightGBM] [Warning] For categorical features, max_bin and max_bin_by_feature may be ignored with a large number of categories.\n",
            "[LightGBM] [Info] Auto-choosing col-wise multi-threading, the overhead of testing was 0.018727 seconds.\n",
            "You can set `force_col_wise=true` to remove the overhead.\n",
            "[LightGBM] [Info] Total Bins 52992\n",
            "[LightGBM] [Info] Number of data points in the train set: 213431, number of used features: 28\n",
            "[LightGBM] [Info] Start training from score 0.814817\n",
            "LightGBM Fold 3 RMSE: 0.17728\n",
            "[LightGBM] [Warning] Categorical features with more bins than the configured maximum bin number found.\n",
            "[LightGBM] [Warning] For categorical features, max_bin and max_bin_by_feature may be ignored with a large number of categories.\n",
            "[LightGBM] [Info] Auto-choosing col-wise multi-threading, the overhead of testing was 0.015452 seconds.\n",
            "You can set `force_col_wise=true` to remove the overhead.\n",
            "[LightGBM] [Info] Total Bins 52343\n",
            "[LightGBM] [Info] Number of data points in the train set: 212961, number of used features: 28\n",
            "[LightGBM] [Info] Start training from score 0.810877\n",
            "LightGBM Fold 4 RMSE: 0.17663\n",
            "[LightGBM] [Warning] Categorical features with more bins than the configured maximum bin number found.\n",
            "[LightGBM] [Warning] For categorical features, max_bin and max_bin_by_feature may be ignored with a large number of categories.\n",
            "[LightGBM] [Info] Auto-choosing col-wise multi-threading, the overhead of testing was 0.031401 seconds.\n",
            "You can set `force_col_wise=true` to remove the overhead.\n",
            "[LightGBM] [Info] Total Bins 52091\n",
            "[LightGBM] [Info] Number of data points in the train set: 213229, number of used features: 28\n",
            "[LightGBM] [Info] Start training from score 0.813384\n",
            "LightGBM Fold 5 RMSE: 0.18076\n",
            "LightGBM CV RMSE: 0.17878 ± 0.00201\n"
          ]
        }
      ]
    },
    {
      "cell_type": "code",
      "source": [
        "# RandomForest\n",
        "rf_model_cv = RandomForestRegressor(\n",
        "    n_estimators=400,\n",
        "    random_state=42,\n",
        "    n_jobs=-1\n",
        ")\n",
        "rf_scores = []\n",
        "\n",
        "for fold, (tr_idx, val_idx) in enumerate(cv.split(X_enc, y, groups=X_cat['sale_year'])):\n",
        "    X_tr, X_val = X_enc.iloc[tr_idx], X_enc.iloc[val_idx]\n",
        "    y_tr, y_val = y.iloc[tr_idx], y.iloc[val_idx]\n",
        "    rf_model_cv.fit(X_tr, y_tr)\n",
        "    pred = rf_model_cv.predict(X_val)\n",
        "    rmse = np.sqrt(mean_squared_error(y_val, pred))\n",
        "    rf_scores.append(rmse)\n",
        "    print(f'RandomForest Fold {fold+1} RMSE: {rmse:.5f}')\n",
        "\n",
        "print(f\"RandomForest CV RMSE: {np.mean(rf_scores):.5f} ± {np.std(rf_scores):.5f}\")"
      ],
      "metadata": {
        "colab": {
          "base_uri": "https://localhost:8080/"
        },
        "id": "EY6RDNBhqT82",
        "outputId": "73da3ec3-7e46-4ffe-d973-35804befd2a7"
      },
      "id": "EY6RDNBhqT82",
      "execution_count": 18,
      "outputs": [
        {
          "output_type": "stream",
          "name": "stdout",
          "text": [
            "RandomForest Fold 1 RMSE: 0.18292\n",
            "RandomForest Fold 2 RMSE: 0.18232\n",
            "RandomForest Fold 3 RMSE: 0.17823\n",
            "RandomForest Fold 4 RMSE: 0.18024\n",
            "RandomForest Fold 5 RMSE: 0.18410\n",
            "RandomForest CV RMSE: 0.18156 ± 0.00208\n"
          ]
        }
      ]
    },
    {
      "cell_type": "markdown",
      "id": "58c05b3f",
      "metadata": {
        "id": "58c05b3f"
      },
      "source": [
        "\n",
        "## 9. Select Best Model and Train on Full Data\n",
        "\n",
        "Compare the average CV RMSE of CatBoost, LightGBM and RandomForest.  Select the model with the lowest mean RMSE.  Retrain that model on the full training data and generate predictions for the test set.  Predictions are re‑inflated to the original price scale and saved to a submission file.\n"
      ]
    },
    {
      "cell_type": "code",
      "execution_count": 19,
      "id": "ed16e9d8",
      "metadata": {
        "colab": {
          "base_uri": "https://localhost:8080/",
          "height": 432
        },
        "id": "ed16e9d8",
        "outputId": "6868b264-2462-41ce-c75d-2dae46f396f2"
      },
      "outputs": [
        {
          "output_type": "stream",
          "name": "stdout",
          "text": [
            "Best model based on CV RMSE: CatBoost 0.17830217320955755\n",
            "0:\tlearn: 0.4091769\ttotal: 61.5ms\tremaining: 2m 2s\n",
            "200:\tlearn: 0.1869349\ttotal: 7.82s\tremaining: 1m 9s\n",
            "400:\tlearn: 0.1781641\ttotal: 15.4s\tremaining: 1m 1s\n",
            "600:\tlearn: 0.1727018\ttotal: 23.1s\tremaining: 53.8s\n",
            "800:\tlearn: 0.1685853\ttotal: 30.8s\tremaining: 46.2s\n",
            "1000:\tlearn: 0.1652466\ttotal: 38.5s\tremaining: 38.4s\n",
            "1200:\tlearn: 0.1622373\ttotal: 46.3s\tremaining: 30.8s\n",
            "1400:\tlearn: 0.1593963\ttotal: 54.1s\tremaining: 23.1s\n",
            "1600:\tlearn: 0.1568884\ttotal: 1m 1s\tremaining: 15.4s\n",
            "1800:\tlearn: 0.1546318\ttotal: 1m 9s\tremaining: 7.73s\n",
            "1999:\tlearn: 0.1525718\ttotal: 1m 17s\tremaining: 0us\n",
            "Saved submission.csv; best model used: CatBoost\n"
          ]
        },
        {
          "output_type": "execute_result",
          "data": {
            "text/plain": [
              "       ID          price\n",
              "0  266325  239891.851473\n",
              "1  266326  212845.307265\n",
              "2  266327  126610.911738\n",
              "3  266328  274061.809701\n",
              "4  266329  221726.643533"
            ],
            "text/html": [
              "\n",
              "  <div id=\"df-61ea013c-1727-442f-905b-b83aa8863221\" class=\"colab-df-container\">\n",
              "    <div>\n",
              "<style scoped>\n",
              "    .dataframe tbody tr th:only-of-type {\n",
              "        vertical-align: middle;\n",
              "    }\n",
              "\n",
              "    .dataframe tbody tr th {\n",
              "        vertical-align: top;\n",
              "    }\n",
              "\n",
              "    .dataframe thead th {\n",
              "        text-align: right;\n",
              "    }\n",
              "</style>\n",
              "<table border=\"1\" class=\"dataframe\">\n",
              "  <thead>\n",
              "    <tr style=\"text-align: right;\">\n",
              "      <th></th>\n",
              "      <th>ID</th>\n",
              "      <th>price</th>\n",
              "    </tr>\n",
              "  </thead>\n",
              "  <tbody>\n",
              "    <tr>\n",
              "      <th>0</th>\n",
              "      <td>266325</td>\n",
              "      <td>239891.851473</td>\n",
              "    </tr>\n",
              "    <tr>\n",
              "      <th>1</th>\n",
              "      <td>266326</td>\n",
              "      <td>212845.307265</td>\n",
              "    </tr>\n",
              "    <tr>\n",
              "      <th>2</th>\n",
              "      <td>266327</td>\n",
              "      <td>126610.911738</td>\n",
              "    </tr>\n",
              "    <tr>\n",
              "      <th>3</th>\n",
              "      <td>266328</td>\n",
              "      <td>274061.809701</td>\n",
              "    </tr>\n",
              "    <tr>\n",
              "      <th>4</th>\n",
              "      <td>266329</td>\n",
              "      <td>221726.643533</td>\n",
              "    </tr>\n",
              "  </tbody>\n",
              "</table>\n",
              "</div>\n",
              "    <div class=\"colab-df-buttons\">\n",
              "\n",
              "  <div class=\"colab-df-container\">\n",
              "    <button class=\"colab-df-convert\" onclick=\"convertToInteractive('df-61ea013c-1727-442f-905b-b83aa8863221')\"\n",
              "            title=\"Convert this dataframe to an interactive table.\"\n",
              "            style=\"display:none;\">\n",
              "\n",
              "  <svg xmlns=\"http://www.w3.org/2000/svg\" height=\"24px\" viewBox=\"0 -960 960 960\">\n",
              "    <path d=\"M120-120v-720h720v720H120Zm60-500h600v-160H180v160Zm220 220h160v-160H400v160Zm0 220h160v-160H400v160ZM180-400h160v-160H180v160Zm440 0h160v-160H620v160ZM180-180h160v-160H180v160Zm440 0h160v-160H620v160Z\"/>\n",
              "  </svg>\n",
              "    </button>\n",
              "\n",
              "  <style>\n",
              "    .colab-df-container {\n",
              "      display:flex;\n",
              "      gap: 12px;\n",
              "    }\n",
              "\n",
              "    .colab-df-convert {\n",
              "      background-color: #E8F0FE;\n",
              "      border: none;\n",
              "      border-radius: 50%;\n",
              "      cursor: pointer;\n",
              "      display: none;\n",
              "      fill: #1967D2;\n",
              "      height: 32px;\n",
              "      padding: 0 0 0 0;\n",
              "      width: 32px;\n",
              "    }\n",
              "\n",
              "    .colab-df-convert:hover {\n",
              "      background-color: #E2EBFA;\n",
              "      box-shadow: 0px 1px 2px rgba(60, 64, 67, 0.3), 0px 1px 3px 1px rgba(60, 64, 67, 0.15);\n",
              "      fill: #174EA6;\n",
              "    }\n",
              "\n",
              "    .colab-df-buttons div {\n",
              "      margin-bottom: 4px;\n",
              "    }\n",
              "\n",
              "    [theme=dark] .colab-df-convert {\n",
              "      background-color: #3B4455;\n",
              "      fill: #D2E3FC;\n",
              "    }\n",
              "\n",
              "    [theme=dark] .colab-df-convert:hover {\n",
              "      background-color: #434B5C;\n",
              "      box-shadow: 0px 1px 3px 1px rgba(0, 0, 0, 0.15);\n",
              "      filter: drop-shadow(0px 1px 2px rgba(0, 0, 0, 0.3));\n",
              "      fill: #FFFFFF;\n",
              "    }\n",
              "  </style>\n",
              "\n",
              "    <script>\n",
              "      const buttonEl =\n",
              "        document.querySelector('#df-61ea013c-1727-442f-905b-b83aa8863221 button.colab-df-convert');\n",
              "      buttonEl.style.display =\n",
              "        google.colab.kernel.accessAllowed ? 'block' : 'none';\n",
              "\n",
              "      async function convertToInteractive(key) {\n",
              "        const element = document.querySelector('#df-61ea013c-1727-442f-905b-b83aa8863221');\n",
              "        const dataTable =\n",
              "          await google.colab.kernel.invokeFunction('convertToInteractive',\n",
              "                                                    [key], {});\n",
              "        if (!dataTable) return;\n",
              "\n",
              "        const docLinkHtml = 'Like what you see? Visit the ' +\n",
              "          '<a target=\"_blank\" href=https://colab.research.google.com/notebooks/data_table.ipynb>data table notebook</a>'\n",
              "          + ' to learn more about interactive tables.';\n",
              "        element.innerHTML = '';\n",
              "        dataTable['output_type'] = 'display_data';\n",
              "        await google.colab.output.renderOutput(dataTable, element);\n",
              "        const docLink = document.createElement('div');\n",
              "        docLink.innerHTML = docLinkHtml;\n",
              "        element.appendChild(docLink);\n",
              "      }\n",
              "    </script>\n",
              "  </div>\n",
              "\n",
              "\n",
              "    <div id=\"df-52f2a21b-b6b3-4eb0-87fc-ead6d9a2898c\">\n",
              "      <button class=\"colab-df-quickchart\" onclick=\"quickchart('df-52f2a21b-b6b3-4eb0-87fc-ead6d9a2898c')\"\n",
              "                title=\"Suggest charts\"\n",
              "                style=\"display:none;\">\n",
              "\n",
              "<svg xmlns=\"http://www.w3.org/2000/svg\" height=\"24px\"viewBox=\"0 0 24 24\"\n",
              "     width=\"24px\">\n",
              "    <g>\n",
              "        <path d=\"M19 3H5c-1.1 0-2 .9-2 2v14c0 1.1.9 2 2 2h14c1.1 0 2-.9 2-2V5c0-1.1-.9-2-2-2zM9 17H7v-7h2v7zm4 0h-2V7h2v10zm4 0h-2v-4h2v4z\"/>\n",
              "    </g>\n",
              "</svg>\n",
              "      </button>\n",
              "\n",
              "<style>\n",
              "  .colab-df-quickchart {\n",
              "      --bg-color: #E8F0FE;\n",
              "      --fill-color: #1967D2;\n",
              "      --hover-bg-color: #E2EBFA;\n",
              "      --hover-fill-color: #174EA6;\n",
              "      --disabled-fill-color: #AAA;\n",
              "      --disabled-bg-color: #DDD;\n",
              "  }\n",
              "\n",
              "  [theme=dark] .colab-df-quickchart {\n",
              "      --bg-color: #3B4455;\n",
              "      --fill-color: #D2E3FC;\n",
              "      --hover-bg-color: #434B5C;\n",
              "      --hover-fill-color: #FFFFFF;\n",
              "      --disabled-bg-color: #3B4455;\n",
              "      --disabled-fill-color: #666;\n",
              "  }\n",
              "\n",
              "  .colab-df-quickchart {\n",
              "    background-color: var(--bg-color);\n",
              "    border: none;\n",
              "    border-radius: 50%;\n",
              "    cursor: pointer;\n",
              "    display: none;\n",
              "    fill: var(--fill-color);\n",
              "    height: 32px;\n",
              "    padding: 0;\n",
              "    width: 32px;\n",
              "  }\n",
              "\n",
              "  .colab-df-quickchart:hover {\n",
              "    background-color: var(--hover-bg-color);\n",
              "    box-shadow: 0 1px 2px rgba(60, 64, 67, 0.3), 0 1px 3px 1px rgba(60, 64, 67, 0.15);\n",
              "    fill: var(--button-hover-fill-color);\n",
              "  }\n",
              "\n",
              "  .colab-df-quickchart-complete:disabled,\n",
              "  .colab-df-quickchart-complete:disabled:hover {\n",
              "    background-color: var(--disabled-bg-color);\n",
              "    fill: var(--disabled-fill-color);\n",
              "    box-shadow: none;\n",
              "  }\n",
              "\n",
              "  .colab-df-spinner {\n",
              "    border: 2px solid var(--fill-color);\n",
              "    border-color: transparent;\n",
              "    border-bottom-color: var(--fill-color);\n",
              "    animation:\n",
              "      spin 1s steps(1) infinite;\n",
              "  }\n",
              "\n",
              "  @keyframes spin {\n",
              "    0% {\n",
              "      border-color: transparent;\n",
              "      border-bottom-color: var(--fill-color);\n",
              "      border-left-color: var(--fill-color);\n",
              "    }\n",
              "    20% {\n",
              "      border-color: transparent;\n",
              "      border-left-color: var(--fill-color);\n",
              "      border-top-color: var(--fill-color);\n",
              "    }\n",
              "    30% {\n",
              "      border-color: transparent;\n",
              "      border-left-color: var(--fill-color);\n",
              "      border-top-color: var(--fill-color);\n",
              "      border-right-color: var(--fill-color);\n",
              "    }\n",
              "    40% {\n",
              "      border-color: transparent;\n",
              "      border-right-color: var(--fill-color);\n",
              "      border-top-color: var(--fill-color);\n",
              "    }\n",
              "    60% {\n",
              "      border-color: transparent;\n",
              "      border-right-color: var(--fill-color);\n",
              "    }\n",
              "    80% {\n",
              "      border-color: transparent;\n",
              "      border-right-color: var(--fill-color);\n",
              "      border-bottom-color: var(--fill-color);\n",
              "    }\n",
              "    90% {\n",
              "      border-color: transparent;\n",
              "      border-bottom-color: var(--fill-color);\n",
              "    }\n",
              "  }\n",
              "</style>\n",
              "\n",
              "      <script>\n",
              "        async function quickchart(key) {\n",
              "          const quickchartButtonEl =\n",
              "            document.querySelector('#' + key + ' button');\n",
              "          quickchartButtonEl.disabled = true;  // To prevent multiple clicks.\n",
              "          quickchartButtonEl.classList.add('colab-df-spinner');\n",
              "          try {\n",
              "            const charts = await google.colab.kernel.invokeFunction(\n",
              "                'suggestCharts', [key], {});\n",
              "          } catch (error) {\n",
              "            console.error('Error during call to suggestCharts:', error);\n",
              "          }\n",
              "          quickchartButtonEl.classList.remove('colab-df-spinner');\n",
              "          quickchartButtonEl.classList.add('colab-df-quickchart-complete');\n",
              "        }\n",
              "        (() => {\n",
              "          let quickchartButtonEl =\n",
              "            document.querySelector('#df-52f2a21b-b6b3-4eb0-87fc-ead6d9a2898c button');\n",
              "          quickchartButtonEl.style.display =\n",
              "            google.colab.kernel.accessAllowed ? 'block' : 'none';\n",
              "        })();\n",
              "      </script>\n",
              "    </div>\n",
              "\n",
              "    </div>\n",
              "  </div>\n"
            ],
            "application/vnd.google.colaboratory.intrinsic+json": {
              "type": "dataframe",
              "variable_name": "submission",
              "summary": "{\n  \"name\": \"submission\",\n  \"rows\": 16547,\n  \"fields\": [\n    {\n      \"column\": \"ID\",\n      \"properties\": {\n        \"dtype\": \"number\",\n        \"std\": 4776,\n        \"min\": 266325,\n        \"max\": 282871,\n        \"num_unique_values\": 16547,\n        \"samples\": [\n          275303,\n          275148,\n          274078\n        ],\n        \"semantic_type\": \"\",\n        \"description\": \"\"\n      }\n    },\n    {\n      \"column\": \"price\",\n      \"properties\": {\n        \"dtype\": \"number\",\n        \"std\": 461927.84966502513,\n        \"min\": 70388.45592781597,\n        \"max\": 13091441.54467915,\n        \"num_unique_values\": 16457,\n        \"samples\": [\n          288005.01237791794,\n          1496112.2176153797,\n          1690131.358554516\n        ],\n        \"semantic_type\": \"\",\n        \"description\": \"\"\n      }\n    }\n  ]\n}"
            }
          },
          "metadata": {},
          "execution_count": 19
        }
      ],
      "source": [
        "# Compute mean CV RMSEs\n",
        "mean_scores = {\n",
        "    'CatBoost': np.mean(cat_scores),\n",
        "    'LightGBM': np.mean(lgb_scores),\n",
        "    'RandomForest': np.mean(rf_scores)\n",
        "}\n",
        "\n",
        "best_model_name = min(mean_scores, key=mean_scores.get)\n",
        "print('Best model based on CV RMSE:', best_model_name, mean_scores[best_model_name])\n",
        "\n",
        "# Train the chosen model on full data and predict\n",
        "if best_model_name == 'CatBoost':\n",
        "    # Ensure column names match between training and test data\n",
        "    X_test_cat_aligned = X_test_cat.rename(columns={'tile_price': 'tile_price_oof'})\n",
        "    final_model = catboost.CatBoostRegressor(\n",
        "        iterations=2000,\n",
        "        learning_rate=0.05,\n",
        "        depth=8,\n",
        "        loss_function='RMSE',\n",
        "        eval_metric='RMSE',\n",
        "        random_state=42,\n",
        "        verbose=False,\n",
        "        task_type='GPU'       # <- Enables GPU\n",
        "    )\n",
        "    final_model.fit(\n",
        "        X_cat,\n",
        "        y,\n",
        "        cat_features=[X_cat.columns.get_loc(c) for c in cat_cols],\n",
        "        verbose=200,\n",
        "        early_stopping_rounds=200\n",
        "    )\n",
        "    test_pred_log = final_model.predict(X_test_cat_aligned)\n",
        "\n",
        "elif best_model_name == 'LightGBM':\n",
        "    # Ensure column names match between training and test data\n",
        "    X_test_enc_aligned = X_test_enc.rename(columns={'tile_price': 'tile_price_oof'})\n",
        "    final_model = LGBMRegressor(\n",
        "        n_estimators=2000,\n",
        "        learning_rate=0.05,\n",
        "        max_depth=-1,\n",
        "        random_state=42,\n",
        "        subsample=0.8,\n",
        "        colsample_bytree=0.8\n",
        "    )\n",
        "    final_model.fit(\n",
        "        X_enc,\n",
        "        y,\n",
        "        categorical_feature=[X_enc.columns.get_loc(c) for c in cat_cols]\n",
        "    )\n",
        "    test_pred_log = final_model.predict(X_test_enc_aligned)\n",
        "\n",
        "else:  # RandomForest\n",
        "    # Ensure column names match between training and test data\n",
        "    X_test_enc_aligned = X_test_enc.rename(columns={'tile_price': 'tile_price_oof'})\n",
        "    final_model = RandomForestRegressor(\n",
        "        n_estimators=400,\n",
        "        random_state=42,\n",
        "        n_jobs=-1\n",
        "    )\n",
        "    final_model.fit(X_enc, y)\n",
        "    test_pred_log = final_model.predict(X_test_enc_aligned)\n",
        "\n",
        "# Re-inflate predictions\n",
        "pred_price_defl = np.expm1(test_pred_log)\n",
        "pred_price = pred_price_defl * test_df['year_idx'].values\n",
        "\n",
        "# Create submission\n",
        "target_id = 'Id' if 'Id' in test_df.columns else test_df.columns[0]\n",
        "submission = pd.DataFrame({\n",
        "    target_id: test_df[target_id],\n",
        "    'price': pred_price\n",
        "})\n",
        "submission.to_csv('submission.csv', index=False)\n",
        "print('Saved submission.csv; best model used:', best_model_name)\n",
        "submission.head()"
      ]
    },
    {
      "cell_type": "markdown",
      "id": "3b1de6b7",
      "metadata": {
        "id": "3b1de6b7"
      },
      "source": [
        "\n",
        "## 10. Feature Importance for Each Model\n",
        "\n",
        "Plot the top 20 feature importances for CatBoost, LightGBM, and RandomForest models based on their full‑data training.  These plots help understand which variables most influence each model's predictions.\n"
      ]
    },
    {
      "cell_type": "code",
      "execution_count": 20,
      "id": "320dfec4",
      "metadata": {
        "colab": {
          "base_uri": "https://localhost:8080/",
          "height": 1000
        },
        "id": "320dfec4",
        "outputId": "291e699f-b07a-4465-d475-13b14305063d"
      },
      "outputs": [
        {
          "output_type": "display_data",
          "data": {
            "text/plain": [
              "<Figure size 1000x600 with 1 Axes>"
            ],
            "image/png": "[encoded data removed]"
          },
          "metadata": {}
        },
        {
          "output_type": "stream",
          "name": "stderr",
          "text": [
            "/tmp/ipython-input-2707500046.py:17: FutureWarning: \n",
            "\n",
            "Passing `palette` without assigning `hue` is deprecated and will be removed in v0.14.0. Assign the `y` variable to `hue` and set `legend=False` for the same effect.\n",
            "\n",
            "  sns.barplot(x='Importance', y='Feature', data=lgb_df.head(20), palette='viridis')\n"
          ]
        },
        {
          "output_type": "display_data",
          "data": {
            "text/plain": [
              "<Figure size 1000x600 with 1 Axes>"
            ],
            "image/png": "[encoded data removed]"
          },
          "metadata": {}
        },
        {
          "output_type": "display_data",
          "data": {
            "text/plain": [
              "<Figure size 1000x600 with 1 Axes>"
            ],
            "image/png": "[encoded data removed]"
          },
          "metadata": {}
        }
      ],
      "source": [
        "\n",
        "# CatBoost feature importance\n",
        "cat_importance = final_model.get_feature_importance() if best_model_name == 'CatBoost' else cat_model_cv.get_feature_importance()\n",
        "cat_df = pd.DataFrame({'Feature': X.columns, 'Importance': cat_importance}).sort_values(by='Importance', ascending=False)\n",
        "\n",
        "plt.figure(figsize=(10,6))\n",
        "plt.barh(cat_df['Feature'][:20][::-1], cat_df['Importance'][:20][::-1])\n",
        "plt.xlabel('Importance Score')\n",
        "plt.title('CatBoost Feature Importance (Top 20)')\n",
        "plt.tight_layout()\n",
        "plt.show()\n",
        "\n",
        "# LightGBM feature importance (use CV model if not final model)\n",
        "lgb_importance = lgb_model_cv.feature_importances_\n",
        "lgb_df = pd.DataFrame({'Feature': X_enc.columns, 'Importance': lgb_importance}).sort_values(by='Importance', ascending=False)\n",
        "\n",
        "plt.figure(figsize=(10,6))\n",
        "sns.barplot(x='Importance', y='Feature', data=lgb_df.head(20), palette='viridis')\n",
        "plt.title('LightGBM Feature Importance (Top 20)')\n",
        "plt.tight_layout()\n",
        "plt.show()\n",
        "\n",
        "# RandomForest feature importance\n",
        "rf_importance = rf_model_cv.feature_importances_\n",
        "rf_df = pd.DataFrame({'Feature': X_enc.columns, 'Importance': rf_importance}).sort_values(by='Importance', ascending=False)\n",
        "\n",
        "plt.figure(figsize=(10,6))\n",
        "plt.barh(rf_df['Feature'][:20][::-1], rf_df['Importance'][:20][::-1])\n",
        "plt.title('RandomForest Feature Importance (Top 20)')\n",
        "plt.xlabel('Importance Score')\n",
        "plt.tight_layout()\n",
        "plt.show()\n"
      ]
    },
    {
      "cell_type": "code",
      "source": [
        "# Combine feature importances from all models\n",
        "combined_importance = pd.DataFrame({\n",
        "    'CatBoost': cat_df.set_index('Feature')['Importance'],\n",
        "    'LightGBM': lgb_df.set_index('Feature')['Importance'],\n",
        "    'RandomForest': rf_df.set_index('Feature')['Importance']\n",
        "})\n",
        "\n",
        "# Fill any missing values (features not present in all models)\n",
        "combined_importance = combined_importance.fillna(0)\n",
        "\n",
        "# Drop the 'ID' row\n",
        "combined_importance = combined_importance.drop('ID', errors='ignore')\n",
        "\n",
        "# Calculate the average importance across models\n",
        "combined_importance['Average_Importance'] = combined_importance.mean(axis=1)\n",
        "\n",
        "# Sort by average importance and get top 5\n",
        "top_4_features = combined_importance.sort_values(by='Average_Importance', ascending=False).head(5)\n",
        "\n",
        "print(\"\\nTop 4 Most Important Features (Average Importance across Models, excluding ID):\")\n",
        "print(top_4_features[['Average_Importance']])"
      ],
      "metadata": {
        "colab": {
          "base_uri": "https://localhost:8080/"
        },
        "id": "9aX9YRb1jS4p",
        "outputId": "1b7d4d12-6ef3-45b4-f65e-212656d159b6"
      },
      "id": "9aX9YRb1jS4p",
      "execution_count": 25,
      "outputs": [
        {
          "output_type": "stream",
          "name": "stdout",
          "text": [
            "\n",
            "Top 4 Most Important Features (Average Importance across Models, excluding ID):\n",
            "                Average_Importance\n",
            "Feature                           \n",
            "postcode               2442.255690\n",
            "tile_id                2238.320084\n",
            "floorAreaSqM           2003.508828\n",
            "outcode                1185.425364\n",
            "tile_price_oof         1170.257737\n"
          ]
        }
      ]
    }
  ],
  "metadata": {
    "colab": {
      "provenance": [],
      "machine_shape": "hm",
      "gpuType": "T4"
    },
    "language_info": {
      "name": "python"
    },
    "kernelspec": {
      "name": "python3",
      "display_name": "Python 3"
    },
    "accelerator": "GPU"
  },
  "nbformat": 4,
  "nbformat_minor": 5
}